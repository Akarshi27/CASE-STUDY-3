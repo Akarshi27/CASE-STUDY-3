{
  "nbformat": 4,
  "nbformat_minor": 0,
  "metadata": {
    "colab": {
      "provenance": []
    },
    "kernelspec": {
      "name": "python3",
      "display_name": "Python 3"
    },
    "language_info": {
      "name": "python"
    }
  },
  "cells": [
    {
      "cell_type": "code",
      "execution_count": null,
      "metadata": {
        "colab": {
          "base_uri": "https://localhost:8080/"
        },
        "id": "gymMo4oUNE1b",
        "outputId": "3e2f709c-5d67-4140-c356-295681d76a9e"
      },
      "outputs": [
        {
          "output_type": "stream",
          "name": "stdout",
          "text": [
            "Enter upper limit of temperature: 50\n",
            "Enter lower limit of temperature: 5\n",
            "Enter temperature in celcius: 100\n",
            "Temperature :  100\n",
            "alert!!!\n"
          ]
        }
      ],
      "source": [
        "def temp(t,ut,lt):\n",
        "  if(t>lt and t<ut):\n",
        "    print(\"correct temp\")\n",
        "  elif(t<lt or t>ut):\n",
        "    print(\"alert!!!\")\n",
        "\n",
        "ut=int(input(\"Enter upper limit of temperature: \"))\n",
        "lt= int(input(\"Enter lower limit of temperature: \"))\n",
        "t=int(input(\"Enter temperature in celcius: \"))\n",
        "print(\"Temperature : \",t)\n",
        "temp(t,ut,lt)"
      ]
    }
  ]
}